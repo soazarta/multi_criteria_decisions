{
  "nbformat": 4,
  "nbformat_minor": 0,
  "metadata": {
    "colab": {
      "name": "Azartash_Sina_743_Research_Code.ipynb",
      "provenance": [],
      "collapsed_sections": []
    },
    "kernelspec": {
      "name": "python3",
      "display_name": "Python 3"
    },
    "language_info": {
      "name": "python"
    }
  },
  "cells": [
    {
      "cell_type": "markdown",
      "metadata": {
        "id": "uwjp5aabMnOj"
      },
      "source": [
        "# Multiple-criteria decision analysis (MCDA) with Evolutionary Methods\n",
        "By Sina Azartash<br>\n",
        "Johns Hopkins University: Whiting School of Eningeering <br>\n",
        "Fall 2021 Reasoning Under Uncertaintity by Marc Johnson <br>\n",
        "\n",
        "###Using Desdeo-emo\n",
        "Credit to Industrial Optimization Group, University of Jyväskylä, Finland<br>\n",
        " http://www.mit.jyu.fi/optgroup/<br>\n",
        "https://github.com/industrial-optimization-group\n"
      ]
    },
    {
      "cell_type": "code",
      "metadata": {
        "colab": {
          "base_uri": "https://localhost:8080/"
        },
        "id": "t16bcfu1MAWa",
        "outputId": "f618592a-15f5-47fc-a507-fe3b08416325"
      },
      "source": [
        "!pip install desdeo_emo   #requires the latest update of numpy"
      ],
      "execution_count": 6,
      "outputs": [
        {
          "output_type": "stream",
          "name": "stdout",
          "text": [
            "Collecting desdeo_emo\n",
            "  Downloading desdeo_emo-1.3.2-py3-none-any.whl (82 kB)\n",
            "\u001b[?25l\r\u001b[K     |████                            | 10 kB 27.3 MB/s eta 0:00:01\r\u001b[K     |████████                        | 20 kB 30.5 MB/s eta 0:00:01\r\u001b[K     |████████████                    | 30 kB 17.9 MB/s eta 0:00:01\r\u001b[K     |████████████████                | 40 kB 15.4 MB/s eta 0:00:01\r\u001b[K     |███████████████████▉            | 51 kB 5.4 MB/s eta 0:00:01\r\u001b[K     |███████████████████████▉        | 61 kB 5.9 MB/s eta 0:00:01\r\u001b[K     |███████████████████████████▉    | 71 kB 5.4 MB/s eta 0:00:01\r\u001b[K     |███████████████████████████████▉| 81 kB 6.1 MB/s eta 0:00:01\r\u001b[K     |████████████████████████████████| 82 kB 582 kB/s \n",
            "\u001b[?25hRequirement already satisfied: plotly<5.0,>=4.1 in /usr/local/lib/python3.7/dist-packages (from desdeo_emo) (4.4.1)\n",
            "Collecting desdeo-problem<2.0.0,>=1.2.0\n",
            "  Downloading desdeo_problem-1.3.2-py3-none-any.whl (23 kB)\n",
            "Collecting desdeo-tools<2.0.0,>=1.4.1\n",
            "  Downloading desdeo_tools-1.5.4-py3-none-any.whl (31 kB)\n",
            "Collecting pyDOE<0.4.0,>=0.3.8\n",
            "  Downloading pyDOE-0.3.8.zip (22 kB)\n",
            "Collecting diversipy<0.9.0,>=0.8.0\n",
            "  Downloading diversipy-0.8.tar.gz (26 kB)\n",
            "Collecting optproblems<2.0,>=1.2\n",
            "  Downloading optproblems-1.3.tar.gz (2.0 MB)\n",
            "\u001b[K     |████████████████████████████████| 2.0 MB 19.2 MB/s \n",
            "\u001b[?25hRequirement already satisfied: numpy<2.0,>=1.17 in /usr/local/lib/python3.7/dist-packages (from desdeo-problem<2.0.0,>=1.2.0->desdeo_emo) (1.19.5)\n",
            "Requirement already satisfied: pandas<2.0,>=1.0 in /usr/local/lib/python3.7/dist-packages (from desdeo-problem<2.0.0,>=1.2.0->desdeo_emo) (1.1.5)\n",
            "Collecting scikit-learn>=0.24.0\n",
            "  Downloading scikit_learn-1.0-cp37-cp37m-manylinux_2_12_x86_64.manylinux2010_x86_64.whl (23.1 MB)\n",
            "\u001b[K     |████████████████████████████████| 23.1 MB 1.7 MB/s \n",
            "\u001b[?25hCollecting hvwfg<2.0.0,>=1.0.2\n",
            "  Downloading hvwfg-1.0.2-cp37-cp37m-manylinux1_x86_64.whl (323 kB)\n",
            "\u001b[K     |████████████████████████████████| 323 kB 49.7 MB/s \n",
            "\u001b[?25hCollecting numba<0.54.0,>=0.53.1\n",
            "  Downloading numba-0.53.1-cp37-cp37m-manylinux2014_x86_64.whl (3.4 MB)\n",
            "\u001b[K     |████████████████████████████████| 3.4 MB 52.8 MB/s \n",
            "\u001b[?25hRequirement already satisfied: scipy<2.0,>=1.2 in /usr/local/lib/python3.7/dist-packages (from desdeo-tools<2.0.0,>=1.4.1->desdeo_emo) (1.4.1)\n",
            "Requirement already satisfied: setuptools in /usr/local/lib/python3.7/dist-packages (from numba<0.54.0,>=0.53.1->desdeo-tools<2.0.0,>=1.4.1->desdeo_emo) (57.4.0)\n",
            "Collecting llvmlite<0.37,>=0.36.0rc1\n",
            "  Downloading llvmlite-0.36.0-cp37-cp37m-manylinux2010_x86_64.whl (25.3 MB)\n",
            "\u001b[K     |████████████████████████████████| 25.3 MB 87 kB/s \n",
            "\u001b[?25hRequirement already satisfied: python-dateutil>=2.7.3 in /usr/local/lib/python3.7/dist-packages (from pandas<2.0,>=1.0->desdeo-problem<2.0.0,>=1.2.0->desdeo_emo) (2.8.2)\n",
            "Requirement already satisfied: pytz>=2017.2 in /usr/local/lib/python3.7/dist-packages (from pandas<2.0,>=1.0->desdeo-problem<2.0.0,>=1.2.0->desdeo_emo) (2018.9)\n",
            "Requirement already satisfied: retrying>=1.3.3 in /usr/local/lib/python3.7/dist-packages (from plotly<5.0,>=4.1->desdeo_emo) (1.3.3)\n",
            "Requirement already satisfied: six in /usr/local/lib/python3.7/dist-packages (from plotly<5.0,>=4.1->desdeo_emo) (1.15.0)\n",
            "Collecting threadpoolctl>=2.0.0\n",
            "  Downloading threadpoolctl-3.0.0-py3-none-any.whl (14 kB)\n",
            "Requirement already satisfied: joblib>=0.11 in /usr/local/lib/python3.7/dist-packages (from scikit-learn>=0.24.0->desdeo-problem<2.0.0,>=1.2.0->desdeo_emo) (1.0.1)\n",
            "Building wheels for collected packages: diversipy, optproblems, pyDOE\n",
            "  Building wheel for diversipy (setup.py) ... \u001b[?25l\u001b[?25hdone\n",
            "  Created wheel for diversipy: filename=diversipy-0.8-py3-none-any.whl size=27531 sha256=7ffaf4feb0743b5aaee8206c87e7ec5032d4f02742394dad603fbab517d005bb\n",
            "  Stored in directory: /root/.cache/pip/wheels/43/af/e6/4964143acc3bb5893d9e188f091e31ab6f6c1a277739033a0e\n",
            "  Building wheel for optproblems (setup.py) ... \u001b[?25l\u001b[?25hdone\n",
            "  Created wheel for optproblems: filename=optproblems-1.3-py3-none-any.whl size=2040690 sha256=42fc8a6440a99a352394a908c06bcb2f7b2ad11079c703aeebd650699e193b90\n",
            "  Stored in directory: /root/.cache/pip/wheels/3a/8d/1b/762402c6cbdfd012cf3622d55b6460440d90dafe59dad0c013\n",
            "  Building wheel for pyDOE (setup.py) ... \u001b[?25l\u001b[?25hdone\n",
            "  Created wheel for pyDOE: filename=pyDOE-0.3.8-py3-none-any.whl size=18184 sha256=444fd6e93a776f43373074ed867613acf4c793e0b92bc90da25f7cf1c4aef182\n",
            "  Stored in directory: /root/.cache/pip/wheels/83/ce/8a/87b25c685bfeca1872d13b8dc101e087a9c6e3fb5ebb47022a\n",
            "Successfully built diversipy optproblems pyDOE\n",
            "Installing collected packages: threadpoolctl, llvmlite, scikit-learn, optproblems, numba, hvwfg, diversipy, pyDOE, desdeo-tools, desdeo-problem, desdeo-emo\n",
            "  Attempting uninstall: llvmlite\n",
            "    Found existing installation: llvmlite 0.34.0\n",
            "    Uninstalling llvmlite-0.34.0:\n",
            "      Successfully uninstalled llvmlite-0.34.0\n",
            "  Attempting uninstall: scikit-learn\n",
            "    Found existing installation: scikit-learn 0.22.2.post1\n",
            "    Uninstalling scikit-learn-0.22.2.post1:\n",
            "      Successfully uninstalled scikit-learn-0.22.2.post1\n",
            "  Attempting uninstall: numba\n",
            "    Found existing installation: numba 0.51.2\n",
            "    Uninstalling numba-0.51.2:\n",
            "      Successfully uninstalled numba-0.51.2\n",
            "Successfully installed desdeo-emo-1.3.2 desdeo-problem-1.3.2 desdeo-tools-1.5.4 diversipy-0.8 hvwfg-1.0.2 llvmlite-0.36.0 numba-0.53.1 optproblems-1.3 pyDOE-0.3.8 scikit-learn-1.0 threadpoolctl-3.0.0\n"
          ]
        }
      ]
    },
    {
      "cell_type": "code",
      "metadata": {
        "colab": {
          "base_uri": "https://localhost:8080/",
          "height": 390
        },
        "id": "QtMlOwOUMF0E",
        "outputId": "42078446-2e08-4e8a-ac10-166b98f042e4"
      },
      "source": [
        "pip install --upgrade numpy"
      ],
      "execution_count": 7,
      "outputs": [
        {
          "output_type": "stream",
          "name": "stdout",
          "text": [
            "Requirement already satisfied: numpy in /usr/local/lib/python3.7/dist-packages (1.19.5)\n",
            "Collecting numpy\n",
            "  Downloading numpy-1.21.2-cp37-cp37m-manylinux_2_12_x86_64.manylinux2010_x86_64.whl (15.7 MB)\n",
            "\u001b[K     |████████████████████████████████| 15.7 MB 198 kB/s \n",
            "\u001b[?25hInstalling collected packages: numpy\n",
            "  Attempting uninstall: numpy\n",
            "    Found existing installation: numpy 1.19.5\n",
            "    Uninstalling numpy-1.19.5:\n",
            "      Successfully uninstalled numpy-1.19.5\n",
            "\u001b[31mERROR: pip's dependency resolver does not currently take into account all the packages that are installed. This behaviour is the source of the following dependency conflicts.\n",
            "tensorflow 2.6.0 requires numpy~=1.19.2, but you have numpy 1.21.2 which is incompatible.\n",
            "datascience 0.10.6 requires folium==0.2.1, but you have folium 0.8.3 which is incompatible.\n",
            "albumentations 0.1.12 requires imgaug<0.2.7,>=0.2.5, but you have imgaug 0.2.9 which is incompatible.\u001b[0m\n",
            "Successfully installed numpy-1.21.2\n"
          ]
        },
        {
          "output_type": "display_data",
          "data": {
            "application/vnd.colab-display-data+json": {
              "pip_warning": {
                "packages": [
                  "numpy"
                ]
              }
            }
          },
          "metadata": {}
        }
      ]
    },
    {
      "cell_type": "code",
      "metadata": {
        "id": "L5RyqrktLgdd"
      },
      "source": [
        "\n",
        "\n",
        "import plotly.graph_objects as go\n",
        "import numpy as np\n",
        "import pandas as pd\n",
        "\n",
        "from desdeo_problem import variable_builder, ScalarObjective, MOProblem\n",
        "from desdeo_problem.testproblems.TestProblems import test_problem_builder\n",
        "\n",
        "from desdeo_emo.EAs.NSGAIII import NSGAIII\n",
        "from desdeo_emo.EAs.RVEA import RVEA\n",
        "from desdeo_emo.utilities.plotlyanimate import animate_init_, animate_next_\n",
        "\n"
      ],
      "execution_count": 1,
      "outputs": []
    },
    {
      "cell_type": "markdown",
      "metadata": {
        "id": "IXmwElQZW_Ny"
      },
      "source": [
        "A single decision consists of multiple goals. To make the best decision, we must optimize the set of those goals. Specifically, we have to maximize goals we are trying to maximize reward and minimize cost and risk. Goals can be overlapping, conflicting and have different weights. This makes its analysis very complex. For this reason, we use evolutionary algorithms to find the optimum value of each of those goals. Goals can be mathematically defined as a scalr objective function. There is actually several optimum value sets for our set of objective sets presenting a list of maximally optimum solutions. This list of potential solutions is referred the Pareato Front and the algorithms below only minimize it."
      ]
    },
    {
      "cell_type": "markdown",
      "metadata": {
        "id": "dyig93u4OV9E"
      },
      "source": [
        "### Define Objective Functions Here\n",
        "\n",
        "Three example arbitrary functions have been defined below. Argument X is a 2D Numpy array"
      ]
    },
    {
      "cell_type": "code",
      "metadata": {
        "id": "5qRKAgclMPkk"
      },
      "source": [
        "def goal_1(x):\n",
        "    term1 = ((x[:,0] - 2) ** 2) / 2\n",
        "    term2 = ((x[:,1] + 1) ** 2) / 13\n",
        "    return term1 + term2 + 3\n",
        "\n",
        "def goal_2(x):\n",
        "    term1 = ((x[:, 0] + x[:, 1] - 3) ** 2) / 36\n",
        "    term2 = ((-x[:, 0] + x[:, 1] + 2) ** 2) / 8\n",
        "    return term1 + term2 - 17\n",
        "\n",
        "def goal_3(x):\n",
        "    term1 = ((x[:, 0] + (2 * x[:, 1]) - 1) ** 2) / 175\n",
        "    term2 = ((-x[:, 0] + 2* x[:, 1]) ** 2) / 17\n",
        "    return term1 + term2 - 13\n",
        "\n",
        "def goal_4(x):\n",
        "    term = x[:, 0]**2 + x[:, 1]**2\n",
        "    return 0.5*term + np.sin(term)\n",
        "\n",
        "def goal_5(x):\n",
        "    term1 = ((3*x[:, 0] - 2*x[:,1] + 4)**2)/8\n",
        "    term2 = ((x[:, 0] - x[:,1] + 1)**2)/27\n",
        "    return term1 + term2 + 15\n",
        "\n",
        "def goal_6(x):\n",
        "    term = x[:, 0]**2 + x[:, 1]**2\n",
        "    return (1/(term + 1)) - 1.1 * np.exp(-term)\n",
        "\n"
      ],
      "execution_count": 16,
      "outputs": []
    },
    {
      "cell_type": "markdown",
      "metadata": {
        "id": "0ber7jKiPjml"
      },
      "source": [
        "### Define Search Space\n",
        "Constraint: X >= -400 & x <=400<br>\n",
        "Below, we set the origin as our starting point (x=0,y=0) <br>\n",
        "Sometimes it is obvious that the value of a goal will be within a mathematical bounds. For example, we can be sure that the price of a car will never be negative, so we would eliminate negative numbers from our constraint.\n"
      ]
    },
    {
      "cell_type": "code",
      "metadata": {
        "colab": {
          "base_uri": "https://localhost:8080/"
        },
        "id": "1h2tMKAnMi_w",
        "outputId": "2eb4b377-a485-4c1f-e310-f7cdd0a3d001"
      },
      "source": [
        "\n",
        "\n",
        "list_vars = variable_builder(['x', 'y'],\n",
        "                             initial_values = [0,0],\n",
        "                             lower_bounds=[-400, -400],\n",
        "                             upper_bounds=[400, 400])\n",
        "list_vars\n",
        "\n"
      ],
      "execution_count": 17,
      "outputs": [
        {
          "output_type": "execute_result",
          "data": {
            "text/plain": [
              "[<desdeo_problem.problem.Variable.Variable at 0x7f07102d6790>,\n",
              " <desdeo_problem.problem.Variable.Variable at 0x7f07102d6550>]"
            ]
          },
          "metadata": {},
          "execution_count": 17
        }
      ]
    },
    {
      "cell_type": "markdown",
      "metadata": {
        "id": "7D33ErClRPDm"
      },
      "source": [
        "#### Investigate goals 1 , 2, and 3\n",
        "Below, each objective function must be wrapped in Scalar Objective Class and then put in a parameter list"
      ]
    },
    {
      "cell_type": "code",
      "metadata": {
        "id": "9KEm7FQyMlfF"
      },
      "source": [
        "\n",
        "\n",
        "f1 = ScalarObjective(name='goal_1', evaluator=f_1)\n",
        "f2 = ScalarObjective(name='goal_2', evaluator=f_2)\n",
        "f3 = ScalarObjective(name='goal_3', evaluator=f_3)\n",
        "list_objs = [f1, f2, f3]\n",
        "problem = MOProblem(variables=list_vars, objectives=list_objs)\n"
      ],
      "execution_count": 18,
      "outputs": []
    },
    {
      "cell_type": "markdown",
      "metadata": {
        "id": "A_kVyxJ0Upke"
      },
      "source": [
        "### Specify Parameters For Evolutionary Methods\n",
        "@arg problem = the object containing of our objective functions<br>\n",
        "@arg n_iterations = the number of generations to consider. The higher this number, the more accurate, but more running time required<br>\n",
        "@arg population_size = the maximum number of individuals in a generation (the maximum number of solutions to consider at a time)<br>\n",
        "@arg selection_type = uncertaintity estimate."
      ]
    },
    {
      "cell_type": "code",
      "metadata": {
        "id": "lEQiJqaoLqeL"
      },
      "source": [
        "evolver = NSGAIII(problem,\n",
        "                  n_iterations=10,\n",
        "                  n_gen_per_iter=100,\n",
        "                  population_size=100)"
      ],
      "execution_count": 19,
      "outputs": []
    },
    {
      "cell_type": "markdown",
      "metadata": {
        "id": "9iET1ttqVvO-"
      },
      "source": [
        "Runs the evolutionary aglrotihm"
      ]
    },
    {
      "cell_type": "code",
      "metadata": {
        "id": "6G5kEPibTPJS"
      },
      "source": [
        "\n",
        "\n",
        "while evolver.continue_evolution():\n",
        "    evolver.iterate()\n",
        "\n"
      ],
      "execution_count": 20,
      "outputs": []
    },
    {
      "cell_type": "markdown",
      "metadata": {
        "id": "RFnIvk4UVz7n"
      },
      "source": [
        "Display the results on a 2D graph"
      ]
    },
    {
      "cell_type": "code",
      "metadata": {
        "colab": {
          "base_uri": "https://localhost:8080/",
          "height": 542
        },
        "id": "AtN_DYkkT3Z6",
        "outputId": "c005fd81-3ed3-4986-d0d4-e59537f93678"
      },
      "source": [
        "\n",
        "\n",
        "individuals, solutions = evolver.end()\n",
        "\n",
        "fig1 = go.Figure(\n",
        "    data=go.Scatter(\n",
        "        x=individuals[:,0], \n",
        "        y=individuals[:,1], \n",
        "        mode=\"markers\"))\n",
        "fig1\n",
        "\n"
      ],
      "execution_count": 21,
      "outputs": [
        {
          "output_type": "display_data",
          "data": {
            "text/html": [
              "<html>\n",
              "<head><meta charset=\"utf-8\" /></head>\n",
              "<body>\n",
              "    <div>\n",
              "            <script src=\"https://cdnjs.cloudflare.com/ajax/libs/mathjax/2.7.5/MathJax.js?config=TeX-AMS-MML_SVG\"></script><script type=\"text/javascript\">if (window.MathJax) {MathJax.Hub.Config({SVG: {font: \"STIX-Web\"}});}</script>\n",
              "                <script type=\"text/javascript\">window.PlotlyConfig = {MathJaxConfig: 'local'};</script>\n",
              "        <script src=\"https://cdn.plot.ly/plotly-latest.min.js\"></script>    \n",
              "            <div id=\"b2763482-2203-4199-9c75-1197e4fce704\" class=\"plotly-graph-div\" style=\"height:525px; width:100%;\"></div>\n",
              "            <script type=\"text/javascript\">\n",
              "                \n",
              "                    window.PLOTLYENV=window.PLOTLYENV || {};\n",
              "                    \n",
              "                if (document.getElementById(\"b2763482-2203-4199-9c75-1197e4fce704\")) {\n",
              "                    Plotly.newPlot(\n",
              "                        'b2763482-2203-4199-9c75-1197e4fce704',\n",
              "                        [{\"mode\": \"markers\", \"type\": \"scatter\", \"x\": [1.9307635760641875, 0.8854205916219898, 2.249722410285736, 2.1027594909863065, 1.9124907472629433, 2.2557965103591036, 2.0175444623414966, 2.255701830763091, 2.24418859760174, 1.49717134155337, 2.2548508777932468, 1.7636162516030698, 2.008260638772128, 2.006740500437871, 2.017994026046468, 1.8184524031957972, 0.8859117878881292, 2.169863881043273, 0.8970558393299252, 2.0061028835675834, 2.0620919348792985, 1.4635050802014153, 2.1691674299089185, 2.2437137792825825, 1.7791589143316355, 2.2740564659667153, 2.395177844865527, 2.4650645680644745, 2.0192211516698935, 2.018847339246234, 2.249594751643725, 2.1052431967766667, 2.119916853480479, 2.0532707604061784, 1.8217254280469033, 2.1005157829516503, 2.1717333380256245, 1.9313062032464097, 2.017941308877573, 2.568704034832815, 2.0103432890703608, 2.428576803072119, 1.9459400446595798, 1.7720069432791037, 2.405747918491053, 1.7623251044911343, 2.4872154566343996, 2.256669177574665, 2.2769532919117124, 1.7631844127330694, 2.116154607926905, 1.513529096652879, 2.018595608256021, 2.1166783131215543, 0.8627572293518986, 1.8248373785830294, 2.264815572224798, 2.2346503313651773, 2.376240853204549, 2.250775425640583, 2.017516480883482, 2.1190197294691275, 2.1052034131779784, 1.8005756962835657, 1.8280471754072478, 0.8814097805603046, 2.5634368216750008, 2.293850834289194, 2.0188467786481654, 2.2578880085111135, 2.2664529634868056, 0.8862405071902043, 1.9480737193221467, 2.017134063474915, 2.013388655649506, 2.102539944119518, 2.15943837216159, 1.7671574556091314, 1.486797608964225, 2.236223056646676, 2.4049192360987215, 1.7848075958261052, 1.9396101595533422, 1.81816101486558, 2.4340066103558935, 2.4010236643871523, 2.2328218946984606, 2.252291037415457, 2.0183655862353995, 2.0036206856178143, 2.0074402087857064, 1.8024538652774917, 2.574543141076428, 2.1014240957984476, 1.782087590760765, 2.0192092290048973, 1.7699257082091413, 1.5079544691101903, 2.018163177401901, 1.8198221984923477], \"y\": [-0.47148495670389423, 0.2586477243508979, 0.6939642312809049, 0.4076327186153376, 0.4911447922539726, 0.7423126368714605, -0.2197352919959521, 0.1672706689248984, 0.5620093734327817, 0.6256221035790794, 0.5685902341868129, 0.7312915110439573, 0.2699408452677806, -0.07203014969025612, 0.4087360103898213, 0.1694958451272945, 0.15806580640680126, 0.3329380313827174, 0.2509418221017576, 0.5570504029332832, 0.32145341822577417, 0.6702295679389929, 0.4949816526129207, 0.5586379369056919, 0.3888683450475025, 0.2694593574754398, 0.7263806458635079, 0.6874673573480696, 0.4152807774253526, 0.8015409134607094, 0.3364932092846866, 0.7540322659265817, 0.25930711850869026, 0.45973470127189797, -0.1992303589577627, 0.15787032934291617, 0.7439942720428487, 0.32951835801372836, -0.20698089774852524, 0.6707197670401793, -0.5937573311047519, 0.38665132534517765, 0.4957525705911059, 0.2562466399462009, 0.6844624176465247, 0.5621219620952771, 0.49603229209990485, 0.39970628772830374, 0.2694877496507553, 0.6705849849011314, 0.25971118459213693, 0.6317032703236084, 0.3888027937183402, 0.4084840420003319, 0.260516763262078, 0.7341479363819076, 0.1695249828850771, 0.7277500700407675, 0.6840555256689836, 0.47988328072522957, 0.665022579846452, 0.5669077534697018, 0.15763968233639394, 0.7676147941812349, 0.485702551046707, 0.1624578850327995, 0.6714624016662634, 0.6938337100789213, 0.40770080255286334, 0.3995747986713031, 0.7406825684984206, 0.2639894703344652, 0.5800785385893261, -0.20532109857354236, -0.5945017771472125, 0.47746736777471543, 0.1820424754885972, 0.26172656238145764, 0.6850417428874537, 0.7282481639419931, 0.5693163389107625, 0.4899865562197504, 0.46538897244768584, 0.6847368841067923, 0.39295943688211726, 0.26683241724731227, 0.5570753176715559, 0.20049365162510557, 0.733763991412407, 0.5725249909403737, 0.1644699539548177, 0.568604577687714, 0.6600456487150901, 0.7409535830109333, 0.4899747899744744, 0.7072727201561657, 0.2617613771111783, 0.48339198526632476, -0.6183830880373482, 0.4707599299994593]}],\n",
              "                        {\"template\": {\"data\": {\"bar\": [{\"error_x\": {\"color\": \"#2a3f5f\"}, \"error_y\": {\"color\": \"#2a3f5f\"}, \"marker\": {\"line\": {\"color\": \"#E5ECF6\", \"width\": 0.5}}, \"type\": \"bar\"}], \"barpolar\": [{\"marker\": {\"line\": {\"color\": \"#E5ECF6\", \"width\": 0.5}}, \"type\": \"barpolar\"}], \"carpet\": [{\"aaxis\": {\"endlinecolor\": \"#2a3f5f\", \"gridcolor\": \"white\", \"linecolor\": \"white\", \"minorgridcolor\": \"white\", \"startlinecolor\": \"#2a3f5f\"}, \"baxis\": {\"endlinecolor\": \"#2a3f5f\", \"gridcolor\": \"white\", \"linecolor\": \"white\", \"minorgridcolor\": \"white\", \"startlinecolor\": \"#2a3f5f\"}, \"type\": \"carpet\"}], \"choropleth\": [{\"colorbar\": {\"outlinewidth\": 0, \"ticks\": \"\"}, \"type\": \"choropleth\"}], \"contour\": [{\"colorbar\": {\"outlinewidth\": 0, \"ticks\": \"\"}, \"colorscale\": [[0.0, \"#0d0887\"], [0.1111111111111111, \"#46039f\"], [0.2222222222222222, \"#7201a8\"], [0.3333333333333333, \"#9c179e\"], [0.4444444444444444, \"#bd3786\"], [0.5555555555555556, \"#d8576b\"], [0.6666666666666666, \"#ed7953\"], [0.7777777777777778, \"#fb9f3a\"], [0.8888888888888888, \"#fdca26\"], [1.0, \"#f0f921\"]], \"type\": \"contour\"}], \"contourcarpet\": [{\"colorbar\": {\"outlinewidth\": 0, \"ticks\": \"\"}, \"type\": \"contourcarpet\"}], \"heatmap\": [{\"colorbar\": {\"outlinewidth\": 0, \"ticks\": \"\"}, \"colorscale\": [[0.0, \"#0d0887\"], [0.1111111111111111, \"#46039f\"], [0.2222222222222222, \"#7201a8\"], [0.3333333333333333, \"#9c179e\"], [0.4444444444444444, \"#bd3786\"], [0.5555555555555556, \"#d8576b\"], [0.6666666666666666, \"#ed7953\"], [0.7777777777777778, \"#fb9f3a\"], [0.8888888888888888, \"#fdca26\"], [1.0, \"#f0f921\"]], \"type\": \"heatmap\"}], \"heatmapgl\": [{\"colorbar\": {\"outlinewidth\": 0, \"ticks\": \"\"}, \"colorscale\": [[0.0, \"#0d0887\"], [0.1111111111111111, \"#46039f\"], [0.2222222222222222, \"#7201a8\"], [0.3333333333333333, \"#9c179e\"], [0.4444444444444444, \"#bd3786\"], [0.5555555555555556, \"#d8576b\"], [0.6666666666666666, \"#ed7953\"], [0.7777777777777778, \"#fb9f3a\"], [0.8888888888888888, \"#fdca26\"], [1.0, \"#f0f921\"]], \"type\": \"heatmapgl\"}], \"histogram\": [{\"marker\": {\"colorbar\": {\"outlinewidth\": 0, \"ticks\": \"\"}}, \"type\": \"histogram\"}], \"histogram2d\": [{\"colorbar\": {\"outlinewidth\": 0, \"ticks\": \"\"}, \"colorscale\": [[0.0, \"#0d0887\"], [0.1111111111111111, \"#46039f\"], [0.2222222222222222, \"#7201a8\"], [0.3333333333333333, \"#9c179e\"], [0.4444444444444444, \"#bd3786\"], [0.5555555555555556, \"#d8576b\"], [0.6666666666666666, \"#ed7953\"], [0.7777777777777778, \"#fb9f3a\"], [0.8888888888888888, \"#fdca26\"], [1.0, \"#f0f921\"]], \"type\": \"histogram2d\"}], \"histogram2dcontour\": [{\"colorbar\": {\"outlinewidth\": 0, \"ticks\": \"\"}, \"colorscale\": [[0.0, \"#0d0887\"], [0.1111111111111111, \"#46039f\"], [0.2222222222222222, \"#7201a8\"], [0.3333333333333333, \"#9c179e\"], [0.4444444444444444, \"#bd3786\"], [0.5555555555555556, \"#d8576b\"], [0.6666666666666666, \"#ed7953\"], [0.7777777777777778, \"#fb9f3a\"], [0.8888888888888888, \"#fdca26\"], [1.0, \"#f0f921\"]], \"type\": \"histogram2dcontour\"}], \"mesh3d\": [{\"colorbar\": {\"outlinewidth\": 0, \"ticks\": \"\"}, \"type\": \"mesh3d\"}], \"parcoords\": [{\"line\": {\"colorbar\": {\"outlinewidth\": 0, \"ticks\": \"\"}}, \"type\": \"parcoords\"}], \"pie\": [{\"automargin\": true, \"type\": \"pie\"}], \"scatter\": [{\"marker\": {\"colorbar\": {\"outlinewidth\": 0, \"ticks\": \"\"}}, \"type\": \"scatter\"}], \"scatter3d\": [{\"line\": {\"colorbar\": {\"outlinewidth\": 0, \"ticks\": \"\"}}, \"marker\": {\"colorbar\": {\"outlinewidth\": 0, \"ticks\": \"\"}}, \"type\": \"scatter3d\"}], \"scattercarpet\": [{\"marker\": {\"colorbar\": {\"outlinewidth\": 0, \"ticks\": \"\"}}, \"type\": \"scattercarpet\"}], \"scattergeo\": [{\"marker\": {\"colorbar\": {\"outlinewidth\": 0, \"ticks\": \"\"}}, \"type\": \"scattergeo\"}], \"scattergl\": [{\"marker\": {\"colorbar\": {\"outlinewidth\": 0, \"ticks\": \"\"}}, \"type\": \"scattergl\"}], \"scattermapbox\": [{\"marker\": {\"colorbar\": {\"outlinewidth\": 0, \"ticks\": \"\"}}, \"type\": \"scattermapbox\"}], \"scatterpolar\": [{\"marker\": {\"colorbar\": {\"outlinewidth\": 0, \"ticks\": \"\"}}, \"type\": \"scatterpolar\"}], \"scatterpolargl\": [{\"marker\": {\"colorbar\": {\"outlinewidth\": 0, \"ticks\": \"\"}}, \"type\": \"scatterpolargl\"}], \"scatterternary\": [{\"marker\": {\"colorbar\": {\"outlinewidth\": 0, \"ticks\": \"\"}}, \"type\": \"scatterternary\"}], \"surface\": [{\"colorbar\": {\"outlinewidth\": 0, \"ticks\": \"\"}, \"colorscale\": [[0.0, \"#0d0887\"], [0.1111111111111111, \"#46039f\"], [0.2222222222222222, \"#7201a8\"], [0.3333333333333333, \"#9c179e\"], [0.4444444444444444, \"#bd3786\"], [0.5555555555555556, \"#d8576b\"], [0.6666666666666666, \"#ed7953\"], [0.7777777777777778, \"#fb9f3a\"], [0.8888888888888888, \"#fdca26\"], [1.0, \"#f0f921\"]], \"type\": \"surface\"}], \"table\": [{\"cells\": {\"fill\": {\"color\": \"#EBF0F8\"}, \"line\": {\"color\": \"white\"}}, \"header\": {\"fill\": {\"color\": \"#C8D4E3\"}, \"line\": {\"color\": \"white\"}}, \"type\": \"table\"}]}, \"layout\": {\"annotationdefaults\": {\"arrowcolor\": \"#2a3f5f\", \"arrowhead\": 0, \"arrowwidth\": 1}, \"coloraxis\": {\"colorbar\": {\"outlinewidth\": 0, \"ticks\": \"\"}}, \"colorscale\": {\"diverging\": [[0, \"#8e0152\"], [0.1, \"#c51b7d\"], [0.2, \"#de77ae\"], [0.3, \"#f1b6da\"], [0.4, \"#fde0ef\"], [0.5, \"#f7f7f7\"], [0.6, \"#e6f5d0\"], [0.7, \"#b8e186\"], [0.8, \"#7fbc41\"], [0.9, \"#4d9221\"], [1, \"#276419\"]], \"sequential\": [[0.0, \"#0d0887\"], [0.1111111111111111, \"#46039f\"], [0.2222222222222222, \"#7201a8\"], [0.3333333333333333, \"#9c179e\"], [0.4444444444444444, \"#bd3786\"], [0.5555555555555556, \"#d8576b\"], [0.6666666666666666, \"#ed7953\"], [0.7777777777777778, \"#fb9f3a\"], [0.8888888888888888, \"#fdca26\"], [1.0, \"#f0f921\"]], \"sequentialminus\": [[0.0, \"#0d0887\"], [0.1111111111111111, \"#46039f\"], [0.2222222222222222, \"#7201a8\"], [0.3333333333333333, \"#9c179e\"], [0.4444444444444444, \"#bd3786\"], [0.5555555555555556, \"#d8576b\"], [0.6666666666666666, \"#ed7953\"], [0.7777777777777778, \"#fb9f3a\"], [0.8888888888888888, \"#fdca26\"], [1.0, \"#f0f921\"]]}, \"colorway\": [\"#636efa\", \"#EF553B\", \"#00cc96\", \"#ab63fa\", \"#FFA15A\", \"#19d3f3\", \"#FF6692\", \"#B6E880\", \"#FF97FF\", \"#FECB52\"], \"font\": {\"color\": \"#2a3f5f\"}, \"geo\": {\"bgcolor\": \"white\", \"lakecolor\": \"white\", \"landcolor\": \"#E5ECF6\", \"showlakes\": true, \"showland\": true, \"subunitcolor\": \"white\"}, \"hoverlabel\": {\"align\": \"left\"}, \"hovermode\": \"closest\", \"mapbox\": {\"style\": \"light\"}, \"paper_bgcolor\": \"white\", \"plot_bgcolor\": \"#E5ECF6\", \"polar\": {\"angularaxis\": {\"gridcolor\": \"white\", \"linecolor\": \"white\", \"ticks\": \"\"}, \"bgcolor\": \"#E5ECF6\", \"radialaxis\": {\"gridcolor\": \"white\", \"linecolor\": \"white\", \"ticks\": \"\"}}, \"scene\": {\"xaxis\": {\"backgroundcolor\": \"#E5ECF6\", \"gridcolor\": \"white\", \"gridwidth\": 2, \"linecolor\": \"white\", \"showbackground\": true, \"ticks\": \"\", \"zerolinecolor\": \"white\"}, \"yaxis\": {\"backgroundcolor\": \"#E5ECF6\", \"gridcolor\": \"white\", \"gridwidth\": 2, \"linecolor\": \"white\", \"showbackground\": true, \"ticks\": \"\", \"zerolinecolor\": \"white\"}, \"zaxis\": {\"backgroundcolor\": \"#E5ECF6\", \"gridcolor\": \"white\", \"gridwidth\": 2, \"linecolor\": \"white\", \"showbackground\": true, \"ticks\": \"\", \"zerolinecolor\": \"white\"}}, \"shapedefaults\": {\"line\": {\"color\": \"#2a3f5f\"}}, \"ternary\": {\"aaxis\": {\"gridcolor\": \"white\", \"linecolor\": \"white\", \"ticks\": \"\"}, \"baxis\": {\"gridcolor\": \"white\", \"linecolor\": \"white\", \"ticks\": \"\"}, \"bgcolor\": \"#E5ECF6\", \"caxis\": {\"gridcolor\": \"white\", \"linecolor\": \"white\", \"ticks\": \"\"}}, \"title\": {\"x\": 0.05}, \"xaxis\": {\"automargin\": true, \"gridcolor\": \"white\", \"linecolor\": \"white\", \"ticks\": \"\", \"title\": {\"standoff\": 15}, \"zerolinecolor\": \"white\", \"zerolinewidth\": 2}, \"yaxis\": {\"automargin\": true, \"gridcolor\": \"white\", \"linecolor\": \"white\", \"ticks\": \"\", \"title\": {\"standoff\": 15}, \"zerolinecolor\": \"white\", \"zerolinewidth\": 2}}}},\n",
              "                        {\"responsive\": true}\n",
              "                    ).then(function(){\n",
              "                            \n",
              "var gd = document.getElementById('b2763482-2203-4199-9c75-1197e4fce704');\n",
              "var x = new MutationObserver(function (mutations, observer) {{\n",
              "        var display = window.getComputedStyle(gd).display;\n",
              "        if (!display || display === 'none') {{\n",
              "            console.log([gd, 'removed!']);\n",
              "            Plotly.purge(gd);\n",
              "            observer.disconnect();\n",
              "        }}\n",
              "}});\n",
              "\n",
              "// Listen for the removal of the full notebook cells\n",
              "var notebookContainer = gd.closest('#notebook-container');\n",
              "if (notebookContainer) {{\n",
              "    x.observe(notebookContainer, {childList: true});\n",
              "}}\n",
              "\n",
              "// Listen for the clearing of the current output cell\n",
              "var outputEl = gd.closest('.output');\n",
              "if (outputEl) {{\n",
              "    x.observe(outputEl, {childList: true});\n",
              "}}\n",
              "\n",
              "                        })\n",
              "                };\n",
              "                \n",
              "            </script>\n",
              "        </div>\n",
              "</body>\n",
              "</html>"
            ]
          },
          "metadata": {}
        }
      ]
    },
    {
      "cell_type": "code",
      "metadata": {
        "colab": {
          "base_uri": "https://localhost:8080/",
          "height": 542
        },
        "id": "gBoG0unST81j",
        "outputId": "5a9946cb-b9fd-47e1-8c59-e56ff79f1524"
      },
      "source": [
        "fig2 = go.Figure(data=go.Scatter3d(x=solutions[:,0],\n",
        "                                   y=solutions[:,1],\n",
        "                                   z=solutions[:,2],\n",
        "                                   mode=\"markers\",\n",
        "                                   marker_size=5))\n",
        "fig2"
      ],
      "execution_count": 22,
      "outputs": [
        {
          "output_type": "display_data",
          "data": {
            "text/html": [
              "<html>\n",
              "<head><meta charset=\"utf-8\" /></head>\n",
              "<body>\n",
              "    <div>\n",
              "            <script src=\"https://cdnjs.cloudflare.com/ajax/libs/mathjax/2.7.5/MathJax.js?config=TeX-AMS-MML_SVG\"></script><script type=\"text/javascript\">if (window.MathJax) {MathJax.Hub.Config({SVG: {font: \"STIX-Web\"}});}</script>\n",
              "                <script type=\"text/javascript\">window.PlotlyConfig = {MathJaxConfig: 'local'};</script>\n",
              "        <script src=\"https://cdn.plot.ly/plotly-latest.min.js\"></script>    \n",
              "            <div id=\"c8b0f7a9-7de0-428e-a873-711587caf75c\" class=\"plotly-graph-div\" style=\"height:525px; width:100%;\"></div>\n",
              "            <script type=\"text/javascript\">\n",
              "                \n",
              "                    window.PLOTLYENV=window.PLOTLYENV || {};\n",
              "                    \n",
              "                if (document.getElementById(\"c8b0f7a9-7de0-428e-a873-711587caf75c\")) {\n",
              "                    Plotly.newPlot(\n",
              "                        'c8b0f7a9-7de0-428e-a873-711587caf75c',\n",
              "                        [{\"marker\": {\"size\": 5}, \"mode\": \"markers\", \"type\": \"scatter3d\", \"x\": [3.0238836220451164, 3.7430047129450372, 3.251912550088621, 3.157697438841298, 3.174868380154695, 3.2662277215561, 3.046985674429937, 3.1375010065533657, 3.2174965958064194, 3.329698885542609, 3.2217418174780126, 3.25850558411562, 3.1240917921902653, 3.066263335871837, 3.152818596099683, 3.1216890366273065, 3.723759073103977, 3.1510979302343443, 3.728616406338359, 3.1865113885381273, 3.136253791614726, 3.35850315407082, 3.1862295897978608, 3.216571450672379, 3.17276656793459, 3.1615170932907715, 3.307343544106443, 3.327184532551058, 3.154263163178044, 3.249835277473166, 3.1685498545212836, 3.2422018490732354, 3.1291788273148415, 3.1653285329646152, 3.065216451349831, 3.1081796882013975, 3.2487089405345784, 3.1383301161097132, 3.048536275784869, 3.3764278734620845, 3.012748346124484, 3.2397468763797233, 3.173559374188004, 3.1473870031392472, 3.300578274100186, 3.2159542952437596, 3.2908519597460173, 3.1836455096589003, 3.1623207280667778, 3.242721902861453, 3.1288130440549056, 3.323131243931279, 3.148540067541657, 3.159409014112568, 3.7688838297314318, 3.2466693616060347, 3.1402781579227073, 3.2571550278145764, 3.2889357446974463, 3.199909889711844, 3.213407274428081, 3.1959443793771034, 3.1086207740044487, 3.2602282618878053, 3.18457712311092, 3.729568834472683, 3.373637184485302, 3.263872051590822, 3.152610027417935, 3.1839307753189003, 3.268573652742701, 3.743127748613228, 3.193398029936408, 3.0487248308634554, 3.012737997952879, 3.1731733602884127, 3.120189098324862, 3.1495658189483553, 3.350101091334202, 3.2576577213356623, 3.2714223916946383, 3.1939277267698083, 3.167005377227762, 3.2348664289242706, 3.243437483746994, 3.2038610953445317, 3.2136017515487194, 3.142685768979482, 3.2313946149110606, 3.1902246198461732, 3.1043346224813515, 3.208783031605967, 3.377030799388054, 3.2382910680810824, 3.1945140532624916, 3.2243983542386685, 3.1489318416230323, 3.290319923922961, 3.011367371083275, 3.182627002515913], \"y\": [-16.913835004381287, -16.668600838137262, -16.975243061828248, -16.981722767483863, -16.948265754534514, -16.970412658015867, -16.952816101136438, -16.98977358186543, -16.98633043246096, -16.81945010026871, -16.986830034227363, -16.875863958248967, -16.97696840320099, -16.96770100817357, -16.971786241844363, -16.95614470862149, -16.69142458437862, -16.989809021067295, -16.675598741482784, -16.95675613022157, -16.981035443406252, -16.79713212189702, -16.983597418791838, -16.986517712310015, -16.93430461678601, -16.994209086006197, -16.985877630668934, -16.993170847462913, -16.971509094711443, -16.922527724450262, -16.994297105143886, -16.946833998652355, -16.986866769892117, -16.972760503087116, -16.947236222577107, -16.98431127482221, -16.958867404710695, -16.96500115360677, -16.954403607234628, -16.997106772217126, -16.88473835985157, -16.99883193055278, -16.953554741739275, -16.944458681229403, -16.99006372558545, -16.90736362982516, -16.9999824874287, -16.994162608671925, -16.99427870741043, -16.888171994785424, -16.986603285635688, -16.823415600598512, -16.973113422923937, -16.98309309960215, -16.657947410481537, -16.89124167889509, -16.98997689051476, -16.969567310692135, -16.98805527555736, -16.991423567385187, -16.944792496810102, -16.97218449680091, -16.984561851880958, -16.877924993655352, -16.93285452480762, -16.68857408842809, -16.997008596893824, -16.97999749931639, -16.971964410827574, -16.994231392007226, -16.971886870888074, -16.667680164984688, -16.94388678600527, -16.954597867321514, -16.884366466520603, -16.97752884898329, -16.98789036864711, -16.9432288900918, -16.801474983908115, -16.96970384799703, -16.99660326002907, -16.92323134250763, -16.95561052351894, -16.899266602332602, -16.998957703726827, -16.99468465580146, -16.985631265228783, -16.99134672339348, -16.934318980614968, -16.954553139548175, -16.977869574653393, -16.91563865011846, -16.99755750125133, -16.948185121147176, -16.92264270921698, -16.938742964458793, -16.943716934329032, -16.85280459608998, -16.878220446427914, -16.93305518325657], \"z\": [-12.51421419751289, -12.991101719427217, -12.916556982313296, -12.881469883072514, -12.928586131712706, -12.922103568146722, -12.64297734652634, -12.768440022313163, -12.894141348240062, -12.978974018478263, -12.893822323511293, -12.966349562881426, -12.859472743477392, -12.7236329730133, -12.895969346133915, -12.863591527294197, -12.980669707733803, -12.847685584211956, -12.989904611004688, -12.927508796202103, -12.864912785242364, -12.980513468755717, -12.891565449285366, -12.89350805427943, -12.927158037259986, -12.80411765689491, -12.90140875883272, -12.88400599235152, -12.897335001836256, -12.950548779291568, -12.832660896356673, -12.939997201190337, -12.833824842874622, -12.902143721142984, -12.709021767149936, -12.801160607738213, -12.932076045915938, -12.890331620627226, -12.6500241427292, -12.863007367344562, -12.398273837572606, -12.811123080970965, -12.924965262928007, -12.897255609767502, -12.892771388348168, -12.955712183322996, -12.833376663919402, -12.850925557058677, -12.803476185982534, -12.964219139999527, -12.834739890013793, -12.978277065316366, -12.89097223560933, -12.879266900316296, -12.992289189431585, -12.962473900913135, -12.767149296062827, -12.922935935763208, -12.897179179012287, -12.874035761276696, -12.940707321273072, -12.913902749493552, -12.800009401722718, -12.964681255446951, -12.938330177548558, -12.981539942484476, -12.864105337166016, -12.910607176793265, -12.895581515540297, -12.850648917734299, -12.920597620166436, -12.991469476294172, -12.93808368347176, -12.651186478802142, -12.396569893553337, -12.898339820149193, -12.797130914254705, -12.899493590809463, -12.979495795480146, -12.9228040502031, -12.868708085343668, -12.94409969357682, -12.920142216882512, -12.960810512948145, -12.812063534975143, -12.773491963725354, -12.894910855931451, -12.782773592288194, -12.946839261291846, -12.930256976414961, -12.8240675390305, -12.952468801182548, -12.859552909257543, -12.939288597801669, -12.944409876364885, -12.944646402529578, -12.89905640054684, -12.970344883057482, -12.376517218343155, -12.936895070919427]}],\n",
              "                        {\"template\": {\"data\": {\"bar\": [{\"error_x\": {\"color\": \"#2a3f5f\"}, \"error_y\": {\"color\": \"#2a3f5f\"}, \"marker\": {\"line\": {\"color\": \"#E5ECF6\", \"width\": 0.5}}, \"type\": \"bar\"}], \"barpolar\": [{\"marker\": {\"line\": {\"color\": \"#E5ECF6\", \"width\": 0.5}}, \"type\": \"barpolar\"}], \"carpet\": [{\"aaxis\": {\"endlinecolor\": \"#2a3f5f\", \"gridcolor\": \"white\", \"linecolor\": \"white\", \"minorgridcolor\": \"white\", \"startlinecolor\": \"#2a3f5f\"}, \"baxis\": {\"endlinecolor\": \"#2a3f5f\", \"gridcolor\": \"white\", \"linecolor\": \"white\", \"minorgridcolor\": \"white\", \"startlinecolor\": \"#2a3f5f\"}, \"type\": \"carpet\"}], \"choropleth\": [{\"colorbar\": {\"outlinewidth\": 0, \"ticks\": \"\"}, \"type\": \"choropleth\"}], \"contour\": [{\"colorbar\": {\"outlinewidth\": 0, \"ticks\": \"\"}, \"colorscale\": [[0.0, \"#0d0887\"], [0.1111111111111111, \"#46039f\"], [0.2222222222222222, \"#7201a8\"], [0.3333333333333333, \"#9c179e\"], [0.4444444444444444, \"#bd3786\"], [0.5555555555555556, \"#d8576b\"], [0.6666666666666666, \"#ed7953\"], [0.7777777777777778, \"#fb9f3a\"], [0.8888888888888888, \"#fdca26\"], [1.0, \"#f0f921\"]], \"type\": \"contour\"}], \"contourcarpet\": [{\"colorbar\": {\"outlinewidth\": 0, \"ticks\": \"\"}, \"type\": \"contourcarpet\"}], \"heatmap\": [{\"colorbar\": {\"outlinewidth\": 0, \"ticks\": \"\"}, \"colorscale\": [[0.0, \"#0d0887\"], [0.1111111111111111, \"#46039f\"], [0.2222222222222222, \"#7201a8\"], [0.3333333333333333, \"#9c179e\"], [0.4444444444444444, \"#bd3786\"], [0.5555555555555556, \"#d8576b\"], [0.6666666666666666, \"#ed7953\"], [0.7777777777777778, \"#fb9f3a\"], [0.8888888888888888, \"#fdca26\"], [1.0, \"#f0f921\"]], \"type\": \"heatmap\"}], \"heatmapgl\": [{\"colorbar\": {\"outlinewidth\": 0, \"ticks\": \"\"}, \"colorscale\": [[0.0, \"#0d0887\"], [0.1111111111111111, \"#46039f\"], [0.2222222222222222, \"#7201a8\"], [0.3333333333333333, \"#9c179e\"], [0.4444444444444444, \"#bd3786\"], [0.5555555555555556, \"#d8576b\"], [0.6666666666666666, \"#ed7953\"], [0.7777777777777778, \"#fb9f3a\"], [0.8888888888888888, \"#fdca26\"], [1.0, \"#f0f921\"]], \"type\": \"heatmapgl\"}], \"histogram\": [{\"marker\": {\"colorbar\": {\"outlinewidth\": 0, \"ticks\": \"\"}}, \"type\": \"histogram\"}], \"histogram2d\": [{\"colorbar\": {\"outlinewidth\": 0, \"ticks\": \"\"}, \"colorscale\": [[0.0, \"#0d0887\"], [0.1111111111111111, \"#46039f\"], [0.2222222222222222, \"#7201a8\"], [0.3333333333333333, \"#9c179e\"], [0.4444444444444444, \"#bd3786\"], [0.5555555555555556, \"#d8576b\"], [0.6666666666666666, \"#ed7953\"], [0.7777777777777778, \"#fb9f3a\"], [0.8888888888888888, \"#fdca26\"], [1.0, \"#f0f921\"]], \"type\": \"histogram2d\"}], \"histogram2dcontour\": [{\"colorbar\": {\"outlinewidth\": 0, \"ticks\": \"\"}, \"colorscale\": [[0.0, \"#0d0887\"], [0.1111111111111111, \"#46039f\"], [0.2222222222222222, \"#7201a8\"], [0.3333333333333333, \"#9c179e\"], [0.4444444444444444, \"#bd3786\"], [0.5555555555555556, \"#d8576b\"], [0.6666666666666666, \"#ed7953\"], [0.7777777777777778, \"#fb9f3a\"], [0.8888888888888888, \"#fdca26\"], [1.0, \"#f0f921\"]], \"type\": \"histogram2dcontour\"}], \"mesh3d\": [{\"colorbar\": {\"outlinewidth\": 0, \"ticks\": \"\"}, \"type\": \"mesh3d\"}], \"parcoords\": [{\"line\": {\"colorbar\": {\"outlinewidth\": 0, \"ticks\": \"\"}}, \"type\": \"parcoords\"}], \"pie\": [{\"automargin\": true, \"type\": \"pie\"}], \"scatter\": [{\"marker\": {\"colorbar\": {\"outlinewidth\": 0, \"ticks\": \"\"}}, \"type\": \"scatter\"}], \"scatter3d\": [{\"line\": {\"colorbar\": {\"outlinewidth\": 0, \"ticks\": \"\"}}, \"marker\": {\"colorbar\": {\"outlinewidth\": 0, \"ticks\": \"\"}}, \"type\": \"scatter3d\"}], \"scattercarpet\": [{\"marker\": {\"colorbar\": {\"outlinewidth\": 0, \"ticks\": \"\"}}, \"type\": \"scattercarpet\"}], \"scattergeo\": [{\"marker\": {\"colorbar\": {\"outlinewidth\": 0, \"ticks\": \"\"}}, \"type\": \"scattergeo\"}], \"scattergl\": [{\"marker\": {\"colorbar\": {\"outlinewidth\": 0, \"ticks\": \"\"}}, \"type\": \"scattergl\"}], \"scattermapbox\": [{\"marker\": {\"colorbar\": {\"outlinewidth\": 0, \"ticks\": \"\"}}, \"type\": \"scattermapbox\"}], \"scatterpolar\": [{\"marker\": {\"colorbar\": {\"outlinewidth\": 0, \"ticks\": \"\"}}, \"type\": \"scatterpolar\"}], \"scatterpolargl\": [{\"marker\": {\"colorbar\": {\"outlinewidth\": 0, \"ticks\": \"\"}}, \"type\": \"scatterpolargl\"}], \"scatterternary\": [{\"marker\": {\"colorbar\": {\"outlinewidth\": 0, \"ticks\": \"\"}}, \"type\": \"scatterternary\"}], \"surface\": [{\"colorbar\": {\"outlinewidth\": 0, \"ticks\": \"\"}, \"colorscale\": [[0.0, \"#0d0887\"], [0.1111111111111111, \"#46039f\"], [0.2222222222222222, \"#7201a8\"], [0.3333333333333333, \"#9c179e\"], [0.4444444444444444, \"#bd3786\"], [0.5555555555555556, \"#d8576b\"], [0.6666666666666666, \"#ed7953\"], [0.7777777777777778, \"#fb9f3a\"], [0.8888888888888888, \"#fdca26\"], [1.0, \"#f0f921\"]], \"type\": \"surface\"}], \"table\": [{\"cells\": {\"fill\": {\"color\": \"#EBF0F8\"}, \"line\": {\"color\": \"white\"}}, \"header\": {\"fill\": {\"color\": \"#C8D4E3\"}, \"line\": {\"color\": \"white\"}}, \"type\": \"table\"}]}, \"layout\": {\"annotationdefaults\": {\"arrowcolor\": \"#2a3f5f\", \"arrowhead\": 0, \"arrowwidth\": 1}, \"coloraxis\": {\"colorbar\": {\"outlinewidth\": 0, \"ticks\": \"\"}}, \"colorscale\": {\"diverging\": [[0, \"#8e0152\"], [0.1, \"#c51b7d\"], [0.2, \"#de77ae\"], [0.3, \"#f1b6da\"], [0.4, \"#fde0ef\"], [0.5, \"#f7f7f7\"], [0.6, \"#e6f5d0\"], [0.7, \"#b8e186\"], [0.8, \"#7fbc41\"], [0.9, \"#4d9221\"], [1, \"#276419\"]], \"sequential\": [[0.0, \"#0d0887\"], [0.1111111111111111, \"#46039f\"], [0.2222222222222222, \"#7201a8\"], [0.3333333333333333, \"#9c179e\"], [0.4444444444444444, \"#bd3786\"], [0.5555555555555556, \"#d8576b\"], [0.6666666666666666, \"#ed7953\"], [0.7777777777777778, \"#fb9f3a\"], [0.8888888888888888, \"#fdca26\"], [1.0, \"#f0f921\"]], \"sequentialminus\": [[0.0, \"#0d0887\"], [0.1111111111111111, \"#46039f\"], [0.2222222222222222, \"#7201a8\"], [0.3333333333333333, \"#9c179e\"], [0.4444444444444444, \"#bd3786\"], [0.5555555555555556, \"#d8576b\"], [0.6666666666666666, \"#ed7953\"], [0.7777777777777778, \"#fb9f3a\"], [0.8888888888888888, \"#fdca26\"], [1.0, \"#f0f921\"]]}, \"colorway\": [\"#636efa\", \"#EF553B\", \"#00cc96\", \"#ab63fa\", \"#FFA15A\", \"#19d3f3\", \"#FF6692\", \"#B6E880\", \"#FF97FF\", \"#FECB52\"], \"font\": {\"color\": \"#2a3f5f\"}, \"geo\": {\"bgcolor\": \"white\", \"lakecolor\": \"white\", \"landcolor\": \"#E5ECF6\", \"showlakes\": true, \"showland\": true, \"subunitcolor\": \"white\"}, \"hoverlabel\": {\"align\": \"left\"}, \"hovermode\": \"closest\", \"mapbox\": {\"style\": \"light\"}, \"paper_bgcolor\": \"white\", \"plot_bgcolor\": \"#E5ECF6\", \"polar\": {\"angularaxis\": {\"gridcolor\": \"white\", \"linecolor\": \"white\", \"ticks\": \"\"}, \"bgcolor\": \"#E5ECF6\", \"radialaxis\": {\"gridcolor\": \"white\", \"linecolor\": \"white\", \"ticks\": \"\"}}, \"scene\": {\"xaxis\": {\"backgroundcolor\": \"#E5ECF6\", \"gridcolor\": \"white\", \"gridwidth\": 2, \"linecolor\": \"white\", \"showbackground\": true, \"ticks\": \"\", \"zerolinecolor\": \"white\"}, \"yaxis\": {\"backgroundcolor\": \"#E5ECF6\", \"gridcolor\": \"white\", \"gridwidth\": 2, \"linecolor\": \"white\", \"showbackground\": true, \"ticks\": \"\", \"zerolinecolor\": \"white\"}, \"zaxis\": {\"backgroundcolor\": \"#E5ECF6\", \"gridcolor\": \"white\", \"gridwidth\": 2, \"linecolor\": \"white\", \"showbackground\": true, \"ticks\": \"\", \"zerolinecolor\": \"white\"}}, \"shapedefaults\": {\"line\": {\"color\": \"#2a3f5f\"}}, \"ternary\": {\"aaxis\": {\"gridcolor\": \"white\", \"linecolor\": \"white\", \"ticks\": \"\"}, \"baxis\": {\"gridcolor\": \"white\", \"linecolor\": \"white\", \"ticks\": \"\"}, \"bgcolor\": \"#E5ECF6\", \"caxis\": {\"gridcolor\": \"white\", \"linecolor\": \"white\", \"ticks\": \"\"}}, \"title\": {\"x\": 0.05}, \"xaxis\": {\"automargin\": true, \"gridcolor\": \"white\", \"linecolor\": \"white\", \"ticks\": \"\", \"title\": {\"standoff\": 15}, \"zerolinecolor\": \"white\", \"zerolinewidth\": 2}, \"yaxis\": {\"automargin\": true, \"gridcolor\": \"white\", \"linecolor\": \"white\", \"ticks\": \"\", \"title\": {\"standoff\": 15}, \"zerolinecolor\": \"white\", \"zerolinewidth\": 2}}}},\n",
              "                        {\"responsive\": true}\n",
              "                    ).then(function(){\n",
              "                            \n",
              "var gd = document.getElementById('c8b0f7a9-7de0-428e-a873-711587caf75c');\n",
              "var x = new MutationObserver(function (mutations, observer) {{\n",
              "        var display = window.getComputedStyle(gd).display;\n",
              "        if (!display || display === 'none') {{\n",
              "            console.log([gd, 'removed!']);\n",
              "            Plotly.purge(gd);\n",
              "            observer.disconnect();\n",
              "        }}\n",
              "}});\n",
              "\n",
              "// Listen for the removal of the full notebook cells\n",
              "var notebookContainer = gd.closest('#notebook-container');\n",
              "if (notebookContainer) {{\n",
              "    x.observe(notebookContainer, {childList: true});\n",
              "}}\n",
              "\n",
              "// Listen for the clearing of the current output cell\n",
              "var outputEl = gd.closest('.output');\n",
              "if (outputEl) {{\n",
              "    x.observe(outputEl, {childList: true});\n",
              "}}\n",
              "\n",
              "                        })\n",
              "                };\n",
              "                \n",
              "            </script>\n",
              "        </div>\n",
              "</body>\n",
              "</html>"
            ]
          },
          "metadata": {}
        }
      ]
    },
    {
      "cell_type": "code",
      "metadata": {
        "id": "psseASgzUB4I"
      },
      "source": [
        "\n",
        "\n",
        "pd.DataFrame(solutions).to_csv(\"MOP7_true_front.csv\")\n",
        "\n"
      ],
      "execution_count": 14,
      "outputs": []
    },
    {
      "cell_type": "markdown",
      "metadata": {
        "id": "t-T8c4xpZlos"
      },
      "source": [
        "#### Investigate goals #4,5 and 6"
      ]
    },
    {
      "cell_type": "code",
      "metadata": {
        "id": "aNOwEOJEWt5q"
      },
      "source": [
        "list_vars = variable_builder(['x', 'y'],\n",
        "                             initial_values = [0,0],\n",
        "                             lower_bounds=[-30, -30],\n",
        "                             upper_bounds=[30, 30])\n",
        "f1 = ScalarObjective(name='goal_4', evaluator=goal_4)\n",
        "f2 = ScalarObjective(name='goal_5', evaluator=goal_5)\n",
        "f3 = ScalarObjective(name='goal_6', evaluator=goal_6)\n",
        "problem = MOProblem(variables=list_vars, objectives=[f1, f2, f3])\n",
        "\n",
        "evolver = NSGAIII(problem)\n"
      ],
      "execution_count": 25,
      "outputs": []
    },
    {
      "cell_type": "markdown",
      "metadata": {
        "id": "PX5twBnQacL5"
      },
      "source": [
        "Below we plot the fitness of each solution attempting to maximize the correct configuration of parameter values. Download the html file and then veiw using a internet browser. We can see that the fitness values start out that our approximiation of the pareto front starts out scattered and crude. After 10 iterations, it becomes much more refined."
      ]
    },
    {
      "cell_type": "code",
      "metadata": {
        "colab": {
          "base_uri": "https://localhost:8080/"
        },
        "id": "siLcB_ogadGP",
        "outputId": "d8ad4311-6a91-4638-beaa-48a7d3657342"
      },
      "source": [
        "individual, solutions = evolver.end()\n",
        "figure = animate_init_(solutions, filename=\"MOP5.html\")"
      ],
      "execution_count": 26,
      "outputs": [
        {
          "output_type": "stream",
          "name": "stdout",
          "text": [
            "Plot saved as:  MOP5.html\n",
            "View the plot by opening the file in browser.\n",
            "To view the plot in Jupyter Notebook, use the IFrame command.\n"
          ]
        }
      ]
    },
    {
      "cell_type": "code",
      "metadata": {
        "colab": {
          "base_uri": "https://localhost:8080/"
        },
        "id": "CpRYe8bhasRi",
        "outputId": "9fb15631-a8a9-4234-e4de-5f3342f5dde6"
      },
      "source": [
        "while evolver.continue_evolution():\n",
        "    print(f\"Running iteration {evolver._iteration_counter+1}\")\n",
        "    evolver.iterate()\n",
        "    non_dominated = evolver.population.non_dominated_fitness()\n",
        "    figure = animate_next_(\n",
        "        evolver.population.objectives[non_dominated],\n",
        "        figure,\n",
        "        filename=\"MOP5.html\",\n",
        "        generation=evolver._iteration_counter,\n",
        "    )"
      ],
      "execution_count": 27,
      "outputs": [
        {
          "output_type": "stream",
          "name": "stdout",
          "text": [
            "Running iteration 1\n",
            "Running iteration 2\n",
            "Running iteration 3\n",
            "Running iteration 4\n",
            "Running iteration 5\n",
            "Running iteration 6\n",
            "Running iteration 7\n",
            "Running iteration 8\n",
            "Running iteration 9\n",
            "Running iteration 10\n"
          ]
        }
      ]
    },
    {
      "cell_type": "markdown",
      "metadata": {
        "id": "QlYTRJPhebNc"
      },
      "source": [
        "### More Examples\n",
        "These examples were taken from GitHub. I have included them below because I have not figured yet how to adapt and modify such as above. Below, is an example that estimated the pareto front for only 1 iteration."
      ]
    },
    {
      "cell_type": "code",
      "metadata": {
        "colab": {
          "base_uri": "https://localhost:8080/"
        },
        "id": "lnSiFECudMeb",
        "outputId": "b21f1e3d-e9c5-45ac-ef37-7519a9a08f4b"
      },
      "source": [
        "\n",
        "\n",
        "problem = test_problem_builder(name=\"DTLZ1\", n_of_variables=30, n_of_objectives=3)\n",
        "\n",
        "evolver = RVEA(problem, interact=True, n_iterations=5, n_gen_per_iter=400)\n",
        "figure = animate_init_(\n",
        "    evolver.population.objectives[evolver.population.non_dominated_fitness()],\n",
        "    filename=\"dtlz1.html\")"
      ],
      "execution_count": 37,
      "outputs": [
        {
          "output_type": "stream",
          "name": "stdout",
          "text": [
            "Plot saved as:  dtlz1.html\n",
            "View the plot by opening the file in browser.\n",
            "To view the plot in Jupyter Notebook, use the IFrame command.\n"
          ]
        }
      ]
    },
    {
      "cell_type": "code",
      "metadata": {
        "id": "oK7FNNbmdvcC"
      },
      "source": [
        "pref, plot = evolver.start()\n",
        "response = evolver.population.ideal_fitness_val + [0.5,0.7,0.1]\n",
        "pref[2].response = pd.DataFrame([response], columns=pref[2].content['dimensions_data'].columns)"
      ],
      "execution_count": 38,
      "outputs": []
    },
    {
      "cell_type": "code",
      "metadata": {
        "colab": {
          "base_uri": "https://localhost:8080/"
        },
        "id": "4zSeSQrEd61G",
        "outputId": "61124d57-100b-4bdb-d0e1-6bcda101f7e0"
      },
      "source": [
        "pref, plot = evolver.iterate(pref[2])\n",
        "figure = animate_next_(\n",
        "    plot.content['data'].values,\n",
        "    figure,\n",
        "    filename=\"dtlz1.html\",\n",
        "    generation=evolver._iteration_counter,\n",
        ")\n",
        "\n",
        "message = (f\"Current generation number:{evolver._current_gen_count}. \"\n",
        "           f\"Is looping back recommended: {'Yes' if evolver.continue_evolution() else 'No'}\")\n",
        "print(message)"
      ],
      "execution_count": 39,
      "outputs": [
        {
          "output_type": "stream",
          "name": "stdout",
          "text": [
            "Current generation number:400. Is looping back recommended: Yes\n"
          ]
        }
      ]
    },
    {
      "cell_type": "markdown",
      "metadata": {
        "id": "01DkT9lme6M2"
      },
      "source": [
        "#To Do:\n",
        "Further description is needed under graphs\n",
        "A string method should be creaated to explain context of a pareto optimal solution\n",
        "A method should be created to slide between different pareto optimal solutions"
      ]
    }
  ]
}